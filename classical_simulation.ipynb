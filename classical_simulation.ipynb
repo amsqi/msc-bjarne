{
 "cells": [
  {
   "cell_type": "markdown",
   "metadata": {},
   "source": [
    "## Classical simulation of DMERA\n",
    "\n",
    "For the simulation without noise, **tensor contraction** is used \n",
    "\n",
    "For the simulation with noise, **Kraus operators** are used. Noise models: depolarizing, 2-qubit gate infidelity (var)\n",
    "\n",
    "    \n",
    "\n",
    "This notebook produces:\n",
    "- Plots for eigenvalues: [noiseless D=2, noiseless D=4] and [exact, noiseless D=2, noisy depol, noisy var]\n",
    "- Plots for energies\n",
    "- Plot for decay of noise after a single noisy layer\n",
    "- Datafiles with observable decay curves for all observables \\in {X, Y, Z}^3\n"
   ]
  },
  {
   "cell_type": "code",
   "execution_count": 1,
   "metadata": {},
   "outputs": [],
   "source": [
    "%load_ext autoreload\n",
    "%autoreload 2\n",
    "\n",
    "import numpy as np\n",
    "import matplotlib.pyplot as plt\n",
    "import scipy.linalg\n",
    "from scipy import sparse\n",
    "from enum import Enum\n",
    "from time import perf_counter\n",
    "import sys\n",
    "import functools\n",
    "import itertools\n",
    "import csv\n",
    "import copy\n",
    "\n",
    "import native_gate_decomp as ngd"
   ]
  },
  {
   "cell_type": "markdown",
   "metadata": {},
   "source": [
    "## Definitions"
   ]
  },
  {
   "cell_type": "code",
   "execution_count": 2,
   "metadata": {},
   "outputs": [],
   "source": [
    "pi = np.pi\n",
    "\n",
    "I = np.eye(2)\n",
    "X = np.array([[0, 1], [1, 0]])\n",
    "Z = np.array([[1, 0], [0, -1]])\n",
    "Y = 1j * X @ Z\n",
    "H = 1/np.sqrt(2)*np.array([[1, 1], [1, -1]])\n",
    "P = np.array([[1, 0], [0, 1j]])\n",
    "\n",
    "def kron(*args):\n",
    "    assert len(args) >= 1\n",
    "    X = args[0]\n",
    "    for Y in args[1:]:\n",
    "        X = np.kron(X, Y)\n",
    "    return X\n",
    "\n",
    "def basis_vec(i,d):\n",
    "    vec = np.array([[0] for k in range(d)])\n",
    "    vec[i] = 1\n",
    "    return vec\n",
    "\n",
    "def make_w(theta):\n",
    "    return np.array(\n",
    "        [\n",
    "            [np.cos(theta - np.pi / 4), 0, 0, np.sin(theta - np.pi / 4)],\n",
    "            [0, np.cos(np.pi / 4), -np.sin(np.pi / 4), 0],\n",
    "            [0, np.sin(np.pi / 4), np.cos(np.pi / 4), 0],\n",
    "            [-np.sin(theta - np.pi / 4), 0, 0, np.cos(theta - np.pi / 4)],\n",
    "        ]\n",
    "    )\n",
    "\n",
    "\n",
    "def make_u(theta):\n",
    "    return np.array(\n",
    "        [\n",
    "            [np.cos(theta), 0, 0, np.sin(theta)],\n",
    "            [0, 1, 0, 0],\n",
    "            [0, 0, 1, 0],\n",
    "            [-np.sin(theta), 0, 0, np.cos(theta)],\n",
    "        ]\n",
    "    )\n",
    "\n",
    "ket0 = np.array([[1.], [0.]])\n",
    "bra0 = ket0.conj().transpose()\n",
    "\n",
    "ket1 = np.array([[0.], [1.]])\n",
    "bra1 = ket1.conj().transpose()\n",
    "\n",
    "# qubit stabilizer states\n",
    "rho_x = (I + X)/2\n",
    "rho_y = (I + Y)/2\n",
    "rho_zp = (I + Z)/2\n",
    "rho_zm = (I - Z)/2"
   ]
  },
  {
   "cell_type": "markdown",
   "metadata": {},
   "source": [
    "## Setup gates"
   ]
  },
  {
   "cell_type": "code",
   "execution_count": 3,
   "metadata": {},
   "outputs": [],
   "source": [
    "theta1 = np.pi / 12\n",
    "theta2 = -np.pi / 6\n",
    "\n",
    "# general contraction scheme for grouped unitaries w and u\n",
    "def contract_TN(w, u):\n",
    "    # upper half of channel\n",
    "    omega = np.einsum(\"ilm,mjnp,kno->ijklpo\", w, u, w)\n",
    "\n",
    "    # average over leftmost and rightmost qubit\n",
    "    # keep same shape except for splitting the to-be-traced qubit \n",
    "    sh = omega.shape\n",
    "    omega = omega.reshape(sh[0], sh[1], sh[2], sh[3], int(sh[4]/2), 2, sh[-1])\n",
    "    phi_l = np.einsum(\"ijklpso,osPlzyx->ijkpPxyz\", omega, omega.conj().T, optimize=True)\n",
    "    \n",
    "    omega = omega.reshape(sh[0], sh[1], sh[2], sh[3], 2, int(sh[4]/2), sh[-1])\n",
    "    phi_r = np.einsum(\"ijklpqo,oQplzyx->ijkqQxyz\", omega, omega.conj().T, optimize=True)\n",
    "    \n",
    "    phi = 1/2 * (phi_l + phi_r)\n",
    "    return phi\n",
    "\n",
    "@functools.lru_cache(256)\n",
    "def assign_gates(decomp, var=0.112, p=0.0087):\n",
    "    if decomp == \"var\":\n",
    "        w = ngd.W_decomp_var(theta1, var)\n",
    "        u = ngd.U_decomp_var(theta2, var)\n",
    "        w_layer = [kron(a, b, c) for a in w for b in w for c in w] # Composite Kraus ops\n",
    "        u_layer = [kron(d, e) for d in u for e in u] # Composite Kraus ops\n",
    "        \n",
    "    elif decomp == \"depol\":\n",
    "        w_layer = ngd.W_decomp_depol_layer\n",
    "        u_layer = ngd.U_decomp_depol_layer\n",
    "\n",
    "    else:\n",
    "        raise ValueError(\"Did not recognize the decomposition. Choose from [var, depol]\")\n",
    "    \n",
    "    return w_layer, u_layer"
   ]
  },
  {
   "cell_type": "code",
   "execution_count": 4,
   "metadata": {},
   "outputs": [],
   "source": [
    "def renormalize_once(rho, keep_left, decomp, var, p):\n",
    "    \"\"\"Apply a single renormalization layer (in the Schrodinger picture).\"\"\"\n",
    "    \n",
    "    w_layer, u_layer = assign_gates(decomp, var)\n",
    "\n",
    "    # add |0><0| on every second site\n",
    "    rho = kron(ket0, I, ket0, I, ket0, I) @ rho @ kron(bra0, I, bra0, I, bra0, I)\n",
    "\n",
    "    # act by W \\ot W \\ot W\n",
    "    if decomp == \"var\":\n",
    "        new_rho = np.zeros((64,64)).astype(complex)\n",
    "        for X in w_layer:\n",
    "            new_rho += X @ rho @ X.conj().transpose()\n",
    "        rho = new_rho\n",
    "    else:\n",
    "        rho = w_layer(rho, theta1, p)\n",
    "\n",
    "    # partial trace over leftmost and rightmost qubit\n",
    "    rho = np.einsum(\"abcaBc->bB\", rho.reshape(2, 16, 2, 2, 16, 2))\n",
    "    \n",
    "    # act by U \\ot U\n",
    "    if decomp == \"var\":\n",
    "        new_rho = np.zeros((16, 16)).astype(complex)\n",
    "        for Y in u_layer:\n",
    "            new_rho += Y @ rho @ Y.conj().transpose()\n",
    "        rho = new_rho\n",
    "    else:\n",
    "        rho = u_layer(rho, theta2, p)\n",
    "    \n",
    "    # partial trace over rightmost or leftmost qubit\n",
    "    if keep_left:\n",
    "        rho = np.einsum(\"abAb->aA\", rho.reshape(8, 2, 8, 2))\n",
    "    else:\n",
    "        rho = np.einsum(\"abaB->bB\", rho.reshape(2, 8, 2, 8))\n",
    "    \n",
    "    return np.real(rho)\n",
    "\n",
    "Mode = Enum(\"Mode\", \"KEEP_LEFT KEEP_RIGHT AVERAGE\")\n",
    "\n",
    "def prepare_state(num_layers, rho, mode, decomp, var, p):\n",
    "\n",
    "    # apply renormalization layers\n",
    "    for _ in range(num_layers):\n",
    "        if mode == Mode.AVERAGE:\n",
    "            rho_left = renormalize_once(rho, keep_left=True, decomp=decomp, var=var, p=p)\n",
    "            rho_right = renormalize_once(rho, keep_left=False, decomp=decomp, var=var, p=p)\n",
    "            rho = 1 / 2 * rho_left + 1 / 2 * rho_right\n",
    "        else:\n",
    "            keep_left = mode == Mode.KEEP_LEFT\n",
    "            rho = renormalize_once(rho, keep_left=keep_left, decomp=decomp, var=var, p=p)\n",
    "\n",
    "    return rho"
   ]
  },
  {
   "cell_type": "code",
   "execution_count": 38,
   "metadata": {},
   "outputs": [],
   "source": [
    "def comp_matrix_rep(decomp, var=0.112, p=0.0087):\n",
    "    d = 2**3   # 3 qubits\n",
    "    M = np.zeros((d**2,d**2))\n",
    "\n",
    "    for i in range(d):\n",
    "        for j in range(d):\n",
    "            # single channel operation only changes for (i,j)\n",
    "            basis_matrix = basis_vec(i, d) @ basis_vec(j, d).conj().transpose()\n",
    "            single_operation = prepare_state(1, basis_matrix, mode=Mode.AVERAGE, decomp=decomp, var=var, p=p)\n",
    "\n",
    "            for k in range(d):\n",
    "                for l in range(d):\n",
    "                    M[d*k+l][d*i+j] = basis_vec(k, d).conj().transpose() @ single_operation @ basis_vec(l, d)\n",
    "\n",
    "    print(\"Finished with\", decomp)\n",
    "    return M"
   ]
  },
  {
   "cell_type": "markdown",
   "metadata": {},
   "source": [
    "## Tensor contraction for D = 2 and D = 4"
   ]
  },
  {
   "cell_type": "code",
   "execution_count": 5,
   "metadata": {},
   "outputs": [],
   "source": [
    "### D = 2 ###\n",
    "\n",
    "# prepare w and u tensors\n",
    "w = np.einsum(\"klij,i->jkl\", make_w(pi/12).reshape(2,2,2,2), ket0.reshape(-1))\n",
    "reshaped_u = np.einsum(\"klij->ijkl\", make_u(-pi/6).reshape(2,2,2,2))\n",
    "u = np.einsum(\"jlm,ilno,mkpq->ijknopq\", w, reshaped_u, reshaped_u).reshape(2,2,2,16)\n",
    "\n",
    "psi_D2 = contract_TN(w,u)\n",
    "psi_matrix_D2 = np.einsum(\"ijkl->iljk\", psi_D2.reshape(2**3,2**3,2**3,2**3)).reshape(2**6,2**6)"
   ]
  },
  {
   "cell_type": "code",
   "execution_count": 56,
   "metadata": {},
   "outputs": [],
   "source": [
    "### D = 4 ###\n",
    "# WARNING: can take ~2 mins to complete\n",
    "\n",
    "# prepare w and u1,u2,u3 tensors\n",
    "w0 = np.einsum(\"klij,i->jkl\", make_w(0.276143653403021).reshape(2,2,2,2), ket0.reshape(-1)) # w + initialized |0> state\n",
    "u1 = np.einsum(\"klij->ijkl\", make_u(0.950326554644286).reshape(2,2,2,2))\n",
    "u2 = np.einsum(\"klij->ijkl\", make_u(-0.111215262156182).reshape(2,2,2,2))\n",
    "u3 = np.einsum(\"klij->ijkl\", make_u(-pi/2).reshape(2,2,2,2))\n",
    "\n",
    "w = np.einsum(\"ilm,jno,kpq,mnrs,optu,stvw->ijklrvwuq\", w0, w0, w0, u1, u1, u2).reshape(8,8,8)\n",
    "u = np.einsum(\"lpq,kprs,qmtu,jrvw,stxy,unzA,ivBC,wxDE,yzFG,AoHI->ijklmnoBCDEFGHI\", w0, u1, u1, u2, u2, u2, u3, u3, u3, u3)\n",
    "u = u.reshape(8,2,8,2**8)\n",
    "\n",
    "psi_D4 = contract_TN(w,u)\n",
    "psi_D4 = psi_D4.reshape(2**7,2**7,2**7,2**7)\n",
    "psi_matrix_D4 = np.einsum(\"ijkl->iljk\", psi_D4.reshape(2**7,2**7,2**7,2**7)).reshape(2**14,2**14)\n"
   ]
  },
  {
   "cell_type": "markdown",
   "metadata": {},
   "source": [
    "## Compute eigenvalues"
   ]
  },
  {
   "cell_type": "code",
   "execution_count": 39,
   "metadata": {},
   "outputs": [
    {
     "name": "stdout",
     "output_type": "stream",
     "text": [
      "Finished with var\n",
      "Finished with depol\n"
     ]
    }
   ],
   "source": [
    "# prepare noisy matrices to diagonalize\n",
    "var = 0.112\n",
    "p = 0.0087\n",
    "M_var = comp_matrix_rep(decomp=\"var\", var=var)\n",
    "M_depol = comp_matrix_rep(decomp=\"depol\",  p=p)"
   ]
  },
  {
   "cell_type": "code",
   "execution_count": 57,
   "metadata": {},
   "outputs": [
    {
     "name": "stdout",
     "output_type": "stream",
     "text": [
      "[-6.40685301e-16  1.40249748e-01  1.00000000e+00  1.13592045e+00\n",
      "  1.15004706e+00  2.00000000e+00]\n"
     ]
    }
   ],
   "source": [
    "eig_decomp_D2 = scipy.linalg.eig(psi_matrix_D2, left=True, right=True)\n",
    "evals_D2 = eig_decomp_D2[0]\n",
    "scaling_dims_D2 = -np.log2(np.abs(evals_D2))\n",
    "scaling_dims_D2.sort()\n",
    "\n",
    "evals_var = scipy.linalg.eig(M_var)[0]\n",
    "scaling_dims_var = -np.log2(np.abs(evals_var))\n",
    "scaling_dims_var.sort()\n",
    "\n",
    "evals_depol = scipy.linalg.eig(M_depol)[0]\n",
    "scaling_dims_depol = -np.log2(np.abs(evals_depol))\n",
    "scaling_dims_depol.sort()\n",
    "\n",
    "scaling_dims_exact = [0, 0.125, 1, 1.125, 1.125, 2, 2, 2, 2, 2.125, 2.125, 2.125, 3, 3, 3, 3, 3, \\\n",
    "                        3.125, 3.125, 3.125, 3.125, 3.125, 3.125, 4, 4, 4, 4, 4, 4, 4, 4, 4]\n",
    "print(scaling_dims_D2[:6])"
   ]
  },
  {
   "cell_type": "code",
   "execution_count": 58,
   "metadata": {},
   "outputs": [],
   "source": [
    "sparse_psi_D4 = sparse.csc_matrix(psi_matrix_D4)\n",
    "evals_D4 = scipy.sparse.linalg.eigs(sparse_psi_D4, k=32)[0]\n",
    "scaling_dims_D4 = -np.log2(np.abs(evals_D4))\n",
    "scaling_dims_D4.sort()\n"
   ]
  },
  {
   "cell_type": "markdown",
   "metadata": {},
   "source": [
    "## Plot eigenvalues"
   ]
  },
  {
   "cell_type": "code",
   "execution_count": 61,
   "metadata": {},
   "outputs": [
    {
     "data": {
      "image/png": "[encoded data removed]",
      "text/plain": [
       "<Figure size 504x360 with 1 Axes>"
      ]
     },
     "metadata": {
      "needs_background": "light"
     },
     "output_type": "display_data"
    },
    {
     "data": {
      "image/png": "[encoded data removed]",
      "text/plain": [
       "<Figure size 504x360 with 1 Axes>"
      ]
     },
     "metadata": {
      "needs_background": "light"
     },
     "output_type": "display_data"
    }
   ],
   "source": [
    "def plot_scaling_dims_exact():\n",
    "    fig, ax = plt.subplots()\n",
    "\n",
    "    plt.plot(range(1,33), scaling_dims_D2[:32], marker=\"s\", markersize=5, \\\n",
    "            linewidth=0, color=\"navy\", label=\"D = 2\")\n",
    "    plt.plot(range(1,33), scaling_dims_D4, marker=\"*\", markersize=7, \\\n",
    "            linewidth=0, color=\"green\", label=\"D = 4\")\n",
    "\n",
    "    plt.legend(fancybox=False, edgecolor=\"black\")\n",
    "    plt.xlabel(\"n-th eigenvalue\")\n",
    "    plt.ylabel(r\"Scaling dimension $\\Delta$\")\n",
    "    plt.title(\"Noiseless scaling dimensions\")\n",
    "    plt.grid()\n",
    "    plt.xlim(0, 33)\n",
    "    plt.xticks([1,5,10,15,20,25,30])\n",
    "    ax.spines[\"right\"].set_visible(False)\n",
    "    ax.spines[\"top\"].set_visible(False)\n",
    "    fig.set_size_inches(7, 5)\n",
    "    plt.savefig(\"./jupyter_figs/scaling_dims_D2_D4.pdf\", bbox_inches=\"tight\")\n",
    "    plt.show()\n",
    "\n",
    "#########################\n",
    "\n",
    "def plot_scaling_dims_noise():\n",
    "    fig, ax = plt.subplots()\n",
    "\n",
    "    plt.plot(range(1,33), scaling_dims_D2[:32], \"x\", markersize = 7, linewidth = 0, \\\n",
    "            color = \"black\", label=\"Noiseless, D = 2\")\n",
    "    plt.plot(range(1,33), scaling_dims_depol[:32], \"*\", markersize = 7, linewidth = 0, \\\n",
    "            color = \"green\", label=\"Depolarizing, p = \"+str(p))\n",
    "    plt.plot(range(1,33), scaling_dims_var[:32], \"*\", markersize = 7, linewidth = 0, \\\n",
    "            color = \"red\", label=r\"2-q gate infidelity, $\\sigma^2 =$\"+str(var))\n",
    "    plt.plot(range(1,33), scaling_dims_exact, \"o\", markersize=4, linewidth=0, \\\n",
    "            color=\"black\", label=\"Ising CFT\")\n",
    "\n",
    "    plt.legend(loc=\"lower right\", fancybox=False, edgecolor=\"black\")\n",
    "    plt.xlabel(\"n-th eigenvalue\")\n",
    "    plt.ylabel(r\"Scaling dimension $\\Delta$\")\n",
    "    plt.title(\"Noiseless and noisy scaling dimensions\")\n",
    "    plt.grid()\n",
    "    plt.xlim(0, 33)\n",
    "    plt.xticks([1,5,10,15,20,25,30])\n",
    "    ax.spines[\"right\"].set_visible(False)\n",
    "    ax.spines[\"top\"].set_visible(False)\n",
    "    fig.set_size_inches(7, 5)\n",
    "    plt.savefig(\"./jupyter_figs/scaling_dims.pdf\", format=\"pdf\", bbox_inches=\"tight\")\n",
    "    plt.savefig(\"./jupyter_figs/scaling_dims.jpg\", format=\"jpg\", bbox_inches=\"tight\", dpi=300)\n",
    "\n",
    "    plt.show()\n",
    "\n",
    "plot_scaling_dims_exact()\n",
    "plot_scaling_dims_noise()"
   ]
  },
  {
   "cell_type": "markdown",
   "metadata": {},
   "source": [
    "## Compute energies"
   ]
  },
  {
   "cell_type": "code",
   "execution_count": 40,
   "metadata": {},
   "outputs": [],
   "source": [
    "# generate list of energies up to m layers\n",
    "def energies_layers(m, decomp, D=2):\n",
    "    energies = []\n",
    "    start_rho = kron(ket0, ket0, ket0) @ kron(bra0, bra0, bra0)\n",
    "\n",
    "    for k in range(m+1):\n",
    "        rho = start_rho\n",
    "\n",
    "        if decomp == \"exact\":\n",
    "            if D == 2:\n",
    "                for _ in range(k):\n",
    "                    rho = np.einsum(\"ijkpPwux,ijkwux\", psi_D2, rho.reshape(2,2,2,2,2,2))\n",
    "                rho = rho.reshape(8,8)\n",
    "            elif D == 4:\n",
    "                rho = kron(ket0, ket0, ket0, ket0, ket0, ket0, ket0) \\\n",
    "                    @ kron(bra0, bra0, bra0, bra0, bra0, bra0, bra0)\n",
    "                for _ in range(k):\n",
    "                    rho = np.einsum(\"ijkl,il->jk\", psi_D4.reshape(128,128,128,128), rho)\n",
    "            \n",
    "        else:\n",
    "            rho = prepare_state(num_layers=k, rho=start_rho, decomp=decomp, var=0.112, p=0.0087, \\\n",
    "                                mode=Mode.AVERAGE)\n",
    "        \n",
    "        if D == 2:\n",
    "            E_XZX = np.trace(kron(X, Z, X) @ rho)\n",
    "            E_XXI = np.trace(kron(I, X, X) @ rho)\n",
    "            E_IXX = np.trace(kron(X, X, I) @ rho)\n",
    "        elif D == 4:\n",
    "            E_XZX = np.trace(kron(I, I, X, Z, X, I, I) @ rho)\n",
    "            E_XXI = np.trace(kron(I, I, I, X, X, I, I) @ rho)\n",
    "            E_IXX = np.trace(kron(I, I, X, X, I, I, I) @ rho)\n",
    "        E_numpy = np.real(E_XZX - (E_IXX + E_XXI) / 2)\n",
    "        energies.append(round(E_numpy,6))\n",
    "    return energies"
   ]
  },
  {
   "cell_type": "code",
   "execution_count": 63,
   "metadata": {},
   "outputs": [
    {
     "name": "stdout",
     "output_type": "stream",
     "text": [
      "Converged energies after 5 layers:\n",
      "D = 2: -1.240916\n",
      "D = 4: -1.26635\n",
      "depol: -1.083358\n",
      "var: -1.08286\n",
      "[0.0, -0.916266, -1.15922, -1.22132, -1.236984, -1.240916]\n"
     ]
    }
   ],
   "source": [
    "# generate lists of energies\n",
    "layers = 5\n",
    "exact_D2_energies = energies_layers(layers, decomp=\"exact\", D=2)\n",
    "# exact_D4_energies = energies_layers(layers, decomp=\"exact\", D=4)\n",
    "depol_energies = energies_layers(layers, decomp=\"depol\")\n",
    "var_energies = energies_layers(layers, decomp=\"var\")\n",
    "\n",
    "print(f\"Converged energies after {layers} layers:\")\n",
    "print(f\"D = 2: {exact_D2_energies[-1]}\")\n",
    "# print(f\"D = 4: {exact_D4_energies[-1]}\")\n",
    "print(f\"depol: {depol_energies[-1]}\")\n",
    "print(f\"var: {var_energies[-1]}\")\n",
    "\n",
    "print(exact_D2_energies)"
   ]
  },
  {
   "cell_type": "code",
   "execution_count": 65,
   "metadata": {},
   "outputs": [
    {
     "data": {
      "image/png": "[encoded data removed]",
      "text/plain": [
       "<Figure size 504x360 with 1 Axes>"
      ]
     },
     "metadata": {
      "needs_background": "light"
     },
     "output_type": "display_data"
    }
   ],
   "source": [
    "# plot energies\n",
    "fig, ax = plt.subplots()\n",
    "\n",
    "plt.plot(exact_D2_energies, label=\"Noiseless, D = 2\", \\\n",
    "            color=\"black\", marker=\"o\")\n",
    "plt.plot(exact_D4_energies, label=\"Noiseless, D = 4\", \\\n",
    "            color=\"darkorange\")\n",
    "plt.plot(depol_energies, label=f\"Depolarizing error, p = {p}\", \\\n",
    "            color=\"green\")\n",
    "plt.plot(var_energies, label=rf\"2-q gate infidelity, $\\sigma^2 =$ {var}\", \\\n",
    "            color=\"red\")\n",
    "plt.hlines(y=-4/pi, xmin=-1, xmax=layers+1, color=\"darkblue\", linestyle=\"--\", \\\n",
    "            label=\"True ground state energy\")\n",
    "\n",
    "plt.legend(fancybox=False, edgecolor=\"black\")\n",
    "plt.xlabel(\"n\")\n",
    "plt.ylabel(\"Energy (a.u.)\")\n",
    "plt.ylabel(r\"$\\langle O \\rangle$\")\n",
    "plt.title(\"Ground state energies from simulated DMERA\")\n",
    "# plt.title(\"Decay of observable\")\n",
    "plt.grid()\n",
    "plt.xlim(-0.1, layers+0.1)\n",
    "ax.spines[\"right\"].set_visible(False)\n",
    "ax.spines[\"top\"].set_visible(False)\n",
    "fig.set_size_inches(7, 5)\n",
    "plt.savefig(\"./jupyter_figs/dmera_energies.pdf\", format=\"pdf\", bbox_inches=\"tight\")\n",
    "# plt.savefig(\"./jupyter_figs/dmera_energies.jpg\", format=\"jpg\", bbox_inches=\"tight\", dpi=300)\n",
    "plt.show()"
   ]
  },
  {
   "cell_type": "markdown",
   "metadata": {},
   "source": [
    "## Decay of noise after a single noisy layer"
   ]
  },
  {
   "cell_type": "code",
   "execution_count": 55,
   "metadata": {},
   "outputs": [
    {
     "data": {
      "image/png": "[encoded data removed]",
      "text/plain": [
       "<Figure size 504x360 with 1 Axes>"
      ]
     },
     "metadata": {
      "needs_background": "light"
     },
     "output_type": "display_data"
    }
   ],
   "source": [
    "# recreate fig 5\n",
    "E_expected = -4/np.pi\n",
    "fig, ax = plt.subplots()\n",
    "colors = [\"skyblue\", \"deepskyblue\", \"dodgerblue\", \"steelblue\", \"darkslategrey\"]\n",
    "\n",
    "for i, variance in enumerate([0.02, 0.04, 0.06, 0.08, 0.1]):\n",
    "    decay = []\n",
    "    start_rho = kron(ket0, ket0, ket0) @ kron(bra0, bra0, bra0)\n",
    "    for _ in range(10):\n",
    "        start_rho = np.einsum(\"ijkpPwux,ijkwux\", psi_D2, start_rho.reshape(2,2,2,2,2,2))\n",
    "    E_XZX = np.trace(kron(X, Z, X) @ start_rho)\n",
    "    E_XXI = np.trace(kron(I, X, X) @ start_rho)\n",
    "    E_IXX = np.trace(kron(X, X, I) @ start_rho)\n",
    "    E_exact = E_XZX - (E_IXX + E_XXI) / 2\n",
    "    rho_noise = prepare_state(num_layers=1, rho=start_rho, decomp=\"var\", var=variance, p=0, mode=Mode.AVERAGE)\n",
    "\n",
    "    for n in range(6):\n",
    "        E_XZX = np.trace(kron(X, Z, X) @ rho_noise)\n",
    "        E_XXI = np.trace(kron(I, X, X) @ rho_noise)\n",
    "        E_IXX = np.trace(kron(X, X, I) @ rho_noise)\n",
    "        E_noise = E_XZX - (E_IXX + E_XXI) / 2 \n",
    "        # print(f\"E_noise = {E_noise}\")\n",
    "        # print(f\"E_exact = {E_exact}\")\n",
    "        decay.append(np.log(E_noise - E_exact))\n",
    "        \n",
    "        rho_noise = np.einsum(\"ijkpPwux,ijkwux\", psi_D2, rho_noise.reshape(2,2,2,2,2,2))\n",
    "    \n",
    "    x = range(6)\n",
    "    m, b = np.polyfit(x, decay, deg = 1)\n",
    "    fit, = plt.plot(x, m*x + b, color=colors[i])\n",
    "    plt.plot(x, decay, marker=\"d\", linewidth = 0, label=r\"$\\sigma^2 =$\"+str(variance), color = fit.get_color())\n",
    "\n",
    "ax.spines[\"right\"].set_visible(False)\n",
    "ax.spines[\"top\"].set_visible(False)\n",
    "fig.set_size_inches(7, 5)\n",
    "plt.title(\"Decay of noise after one noisy layer\")\n",
    "plt.xlabel(\"# noiseless iterations\")\n",
    "plt.ylabel(r\"log($\\tilde{E} - E_0)$\")\n",
    "plt.yticks([-10, -8, -6, -4, -2])\n",
    "plt.xlim(-0.1, 5+0.1)\n",
    "plt.ylim(-10.8, -1.7)\n",
    "plt.legend(fancybox=False, edgecolor=\"black\")\n",
    "plt.grid()\n",
    "plt.savefig(\"./jupyter_figs/noise_decay.pdf\", format=\"pdf\", bbox_inches=\"tight\")\n",
    "# plt.savefig(\"./jupyter_figs/noise_decay.jpg\", format=\"jpg\", bbox_inches=\"tight\", dpi=300)\n",
    "plt.show()"
   ]
  },
  {
   "cell_type": "markdown",
   "metadata": {},
   "source": [
    "## Compute observable decay curves"
   ]
  },
  {
   "cell_type": "code",
   "execution_count": 15,
   "metadata": {},
   "outputs": [],
   "source": [
    "# Compute decay curve until convergence for a given qubit stabilizers starting state and observable\n",
    "def compute_decay(state_l, obs_str, decomp, var=0.112, p=0.0087):\n",
    "    \n",
    "    # Relate input state (list) to starting state\n",
    "    state_poss_l = [\"x\", \"y\", \"zp\", \"zm\"]\n",
    "    state_poss = [rho_x, rho_y, rho_zp, rho_zm]\n",
    "    \n",
    "    m0 = state_poss_l.index(state_l[0])\n",
    "    m1 = state_poss_l.index(state_l[1])\n",
    "    m2 = state_poss_l.index(state_l[2])\n",
    "    starting_state = kron(state_poss[m0], state_poss[m1], state_poss[m2])\n",
    "    \n",
    "    # Relate input obs (string) to obs\n",
    "    obs_poss_str = [\"X\", \"Y\", \"Z\"]\n",
    "    obs_poss = [X, Y, Z]\n",
    "    \n",
    "    n0 = obs_poss_str.index(obs_str[0])\n",
    "    n1 = obs_poss_str.index(obs_str[1])\n",
    "    n2 = obs_poss_str.index(obs_str[2])\n",
    "    obs = kron(obs_poss[n0], obs_poss[n1], obs_poss[n2])\n",
    "    \n",
    "    obs_decay = np.array([])\n",
    "    k = 0\n",
    "    meanchanges = 1\n",
    "    rho = starting_state\n",
    "    # Convergence when relative difference < 0.02 or after 30 layers\n",
    "    while meanchanges > 0.02 and k < 30:\n",
    "        \n",
    "        # Compute layer for layer until convergence (or 30 layers)\n",
    "        if decomp == \"exact\":\n",
    "            rho = np.einsum(\"ijkl,il->jk\", psi_D2.reshape(8,8,8,8), rho)\n",
    "        else:\n",
    "            rho_left = renormalize_once(rho, keep_left=True, decomp=decomp, var=var, p=p)\n",
    "            rho_right = renormalize_once(rho, keep_left=False, decomp=decomp, var=var, p=p)\n",
    "            rho = 1 / 2 * rho_left + 1 / 2 * rho_right\n",
    "        obs_decay = np.append(obs_decay, round(np.real(np.trace(obs @ rho)),6))\n",
    "        \n",
    "        # Start with 3 values in energies before checking for convergence\n",
    "        if len(obs_decay) > 3:\n",
    "            obs_decay = np.array(obs_decay)\n",
    "            rel_diff = abs((obs_decay[1:] - obs_decay[:-1]) / obs_decay[1:])\n",
    "            meanchanges = np.mean(rel_diff[-3:])\n",
    "\n",
    "        k += 1\n",
    "        \n",
    "    return obs_decay\n",
    "\n",
    "\n",
    "# Create file with observable decay data for all possible qubit stabilizer starting states for a given observable\n",
    "def create_decay_datafile(obs, decomp, var=0.112, p=0.0087):\n",
    "    \n",
    "    # List of all possible starting states in the form of rho = A x B x C\n",
    "    starting_states = list(itertools.product([\"x\", \"y\", \"zp\", \"zm\"], repeat = 3))\n",
    "    \n",
    "    if decomp == \"depol\":\n",
    "        filename = f\"./observable_data/{obs}_data_{decomp}_{p}.csv\"\n",
    "    elif decomp == \"var\":\n",
    "        filename = f\"./observable_data/{obs}_data_{decomp}_{var}.csv\"\n",
    "    elif decomp == \"exact\":\n",
    "        filename = f\"./observable_data/{obs}_data_exact.csv\"\n",
    "    else:\n",
    "        raise ValueError(\"Input a valid decomposition.\")\n",
    "    \n",
    "    with open(filename, \"w\", newline=\"\") as f:\n",
    "        cw = csv.writer(f)\n",
    "        for state in starting_states:\n",
    "            E = compute_decay(state, obs, decomp, var, p)\n",
    "            \n",
    "            # if E contains only zeros, do not add to file\n",
    "            if not all(E == 0):\n",
    "                cw.writerow(list(state) + list(E))\n",
    "\n",
    "\n",
    "def create_all_decay_files(decomp, var=0.112, p=0.0087):\n",
    "    pauli_observables = [\"X\", \"Y\", \"Z\"]\n",
    "\n",
    "    for combi in itertools.product(pauli_observables, repeat=3):\n",
    "        obs = \"\".join(combi)\n",
    "        create_decay_datafile(obs, decomp, var=var, p=p)"
   ]
  },
  {
   "cell_type": "code",
   "execution_count": 18,
   "metadata": {},
   "outputs": [
    {
     "name": "stderr",
     "output_type": "stream",
     "text": [
      "C:\\Users\\Bjarne\\AppData\\Local\\Temp\\ipykernel_12656\\2753971987.py:41: RuntimeWarning: invalid value encountered in true_divide\n",
      "  rel_diff = abs((obs_decay[1:] - obs_decay[:-1]) / obs_decay[1:])\n",
      "C:\\Users\\Bjarne\\AppData\\Local\\Temp\\ipykernel_12656\\2753971987.py:41: RuntimeWarning: divide by zero encountered in true_divide\n",
      "  rel_diff = abs((obs_decay[1:] - obs_decay[:-1]) / obs_decay[1:])\n"
     ]
    }
   ],
   "source": [
    "# compute_decay([\"x\", \"x\", \"zm\"],  \"YZY\", decomp=\"exact\")\n",
    "create_all_decay_files(decomp=\"exact\")"
   ]
  }
 ],
 "metadata": {
  "kernelspec": {
   "display_name": "Python 3.10.1 64-bit",
   "language": "python",
   "name": "python3"
  },
  "language_info": {
   "codemirror_mode": {
    "name": "ipython",
    "version": 3
   },
   "file_extension": ".py",
   "mimetype": "text/x-python",
   "name": "python",
   "nbconvert_exporter": "python",
   "pygments_lexer": "ipython3",
   "version": "3.10.1"
  },
  "orig_nbformat": 4,
  "vscode": {
   "interpreter": {
    "hash": "99f3e57285b061188295ed1df70ede89020f56e35972037d7940b0e286c1a4af"
   }
  }
 },
 "nbformat": 4,
 "nbformat_minor": 2
}
